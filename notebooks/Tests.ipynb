{
 "cells": [
  {
   "cell_type": "code",
   "execution_count": 1,
   "metadata": {},
   "outputs": [],
   "source": [
    "# from app.main import app\n",
    "import sys\n",
    "import os\n",
    "\n",
    "# Add the project root directory to Python path\n",
    "project_root = os.path.abspath('..')  # Adjust this path based on your notebook location\n",
    "sys.path.append(project_root)\n",
    "\n",
    "# Now you can import\n",
    "from app.main import app\n",
    "from fastapi.testclient import TestClient\n"
   ]
  },
  {
   "cell_type": "code",
   "execution_count": 2,
   "metadata": {},
   "outputs": [],
   "source": [
    "client = TestClient(app)"
   ]
  },
  {
   "cell_type": "code",
   "execution_count": 3,
   "metadata": {},
   "outputs": [
    {
     "name": "stdout",
     "output_type": "stream",
     "text": [
      "200\n",
      "{'message': 'Bem-vindo à API de Classificação de Textos Jurídicos', 'endpoints': {'classificar_texto': {'path': '/api/pecas/{id}', 'method': 'POST', 'description': 'Utiliza uma modelo de Machine Learning que classifica o texto jurídico e retorna uma lista com ramos do direito.'}}}\n"
     ]
    }
   ],
   "source": [
    "response = client.get(\"/\")\n",
    "print(response.status_code)\n",
    "print(response.json())"
   ]
  },
  {
   "cell_type": "code",
   "execution_count": 4,
   "metadata": {},
   "outputs": [
    {
     "name": "stdout",
     "output_type": "stream",
     "text": [
      "{'id': 1, 'ramo_direito': ['Direito Civil', 'Texto de exemplo']}\n",
      "200\n"
     ]
    }
   ],
   "source": [
    "response = client.post(\n",
    "    \"/api/pecas/1\",\n",
    "    json={\"texto\": \"Texto de exemplo\"}  # Texto vazio\n",
    ")\n",
    "print(response.json())\n",
    "print(response.status_code)"
   ]
  },
  {
   "cell_type": "code",
   "execution_count": 5,
   "metadata": {},
   "outputs": [
    {
     "name": "stdout",
     "output_type": "stream",
     "text": [
      "{'detail': 'Not Found'}\n",
      "404\n"
     ]
    }
   ],
   "source": [
    "response = client.post(\n",
    "    \"/api/pecas/\",\n",
    "    json={\"texto\": \"\"}  # Texto vazio\n",
    ")\n",
    "print(response.json())\n",
    "print(response.status_code)"
   ]
  },
  {
   "cell_type": "code",
   "execution_count": 6,
   "metadata": {},
   "outputs": [
    {
     "name": "stdout",
     "output_type": "stream",
     "text": [
      "{'detail': [{'type': 'string_type', 'loc': ['body', 'texto'], 'msg': 'Input should be a valid string', 'input': 10}]}\n",
      "422\n"
     ]
    }
   ],
   "source": [
    "response = client.post(\n",
    "    \"/api/pecas/1\",\n",
    "    json={\"texto\": 10}  # Numero inves de texto\n",
    ")\n",
    "print(response.json())\n",
    "print(response.status_code)"
   ]
  },
  {
   "cell_type": "code",
   "execution_count": 7,
   "metadata": {},
   "outputs": [
    {
     "name": "stdout",
     "output_type": "stream",
     "text": [
      "{'detail': [{'type': 'int_parsing', 'loc': ['path', 'id'], 'msg': 'Input should be a valid integer, unable to parse string as an integer', 'input': 'abc'}]}\n",
      "422\n"
     ]
    }
   ],
   "source": [
    "response = client.post(\n",
    "    \"/api/pecas/abc\",  # ID inválido\n",
    "    json={\"texto\": \"Texto de exemplo\"}\n",
    ")\n",
    "print(response.json())\n",
    "print(response.status_code)"
   ]
  },
  {
   "cell_type": "code",
   "execution_count": 38,
   "metadata": {},
   "outputs": [
    {
     "name": "stdout",
     "output_type": "stream",
     "text": [
      "200\n",
      "1\n",
      "['Direito Civil']\n"
     ]
    }
   ],
   "source": [
    "response = client.post(\n",
    "    \"/api/pecas/1\",\n",
    "    json={\"texto\": \"\"}  # Texto vazio\n",
    ")\n",
    "print(response.status_code)\n",
    "print(response.json()[\"id\"])\n",
    "print(response.json()[\"ramo_direito\"])"
   ]
  }
 ],
 "metadata": {
  "kernelspec": {
   "display_name": ".venv",
   "language": "python",
   "name": "python3"
  },
  "language_info": {
   "codemirror_mode": {
    "name": "ipython",
    "version": 3
   },
   "file_extension": ".py",
   "mimetype": "text/x-python",
   "name": "python",
   "nbconvert_exporter": "python",
   "pygments_lexer": "ipython3",
   "version": "3.11.11"
  }
 },
 "nbformat": 4,
 "nbformat_minor": 2
}
